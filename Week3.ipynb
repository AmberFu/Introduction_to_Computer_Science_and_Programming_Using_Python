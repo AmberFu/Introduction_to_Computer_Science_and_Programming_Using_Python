{
 "cells": [
  {
   "cell_type": "markdown",
   "metadata": {},
   "source": [
    "# Tuples\n",
    "\n",
    "#### One kind of data structures\n",
    "\n",
    "Represented with Parentheses. (小括號, 圓括號）\n",
    "\n",
    "#### _Ordered_ sequence of elements\n",
    "\n",
    "Can include any kind of element within them.\n",
    "\n",
    "#### _Immutable_\n",
    "\n",
    "Cannot change element values.\n",
    "\n",
    "#### _Extra comma_ means a tuple with one element\n",
    "\n",
    "Ex: (\"one\", )\n",
    "\n",
    "#### Easy to _swap_ variable values\n",
    "\n",
    "Use tuple to change x,y values: (x,y)=(y,x)\n",
    "\n",
    "In other way, I need to use a tmp variable to hold one values then give it back.\n",
    "\n",
    "tmp = x ; x = y ; y = tmp (Need 3 steps)\n",
    "\n",
    "#### Use to Return more than one value from a function\n",
    "\n",
    "```\n",
    "def returnMoreValue(a,b,c):\n",
    "    d = a+b\n",
    "    e = a//c\n",
    "    f = b%c\n",
    "    return (d,e,f)\n",
    "```\n",
    "    \n",
    "#### Can _iterate_ over tuples\n",
    "\n",
    "Ex: aTuple((a,'A'), (b,'B'), (c,'C'))\n",
    "\n",
    "-----"
   ]
  },
  {
   "cell_type": "code",
   "execution_count": 6,
   "metadata": {},
   "outputs": [
    {
     "data": {
      "text/plain": [
       "'i'"
      ]
     },
     "metadata": {},
     "output_type": "display_data"
    },
    {
     "data": {
      "text/plain": [
       "(1, 2, (3, 'John', 4))"
      ]
     },
     "metadata": {},
     "output_type": "display_data"
    },
    {
     "data": {
      "text/plain": [
       "True"
      ]
     },
     "metadata": {},
     "output_type": "display_data"
    },
    {
     "data": {
      "text/plain": [
       "False"
      ]
     },
     "metadata": {},
     "output_type": "display_data"
    }
   ],
   "source": [
    "### Exercise:\n",
    "\n",
    "x = (1, 2, (3, 'John', 4), 'Hi')\n",
    "\n",
    "display(\n",
    "x[-1][-1],\n",
    "x[0:-1],\n",
    "2 in x,\n",
    "3 in x,\n",
    ")"
   ]
  },
  {
   "cell_type": "markdown",
   "metadata": {},
   "source": [
    "**Exercise: odd tuples**\n",
    "\n",
    "0.0/5.0 points (graded)\n",
    "\n",
    "ESTIMATED TIME TO COMPLETE: 5 minutes\n",
    "\n",
    "```\n",
    "Write a procedure called oddTuples, which takes a tuple as input, and returns a new tuple as output, where every other element of the input tuple is copied, starting with the first one. So if test is the tuple ('I', 'am', 'a', 'test', 'tuple'), then evaluating oddTuples on this input would return the tuple ('I', 'a', 'tuple').\n",
    "```"
   ]
  },
  {
   "cell_type": "code",
   "execution_count": 14,
   "metadata": {},
   "outputs": [
    {
     "name": "stdout",
     "output_type": "stream",
     "text": [
      "('I', 'a', 'tuple')\n"
     ]
    }
   ],
   "source": [
    "def oddTuples(aTup):\n",
    "    '''\n",
    "    aTup: a tuple\n",
    "    \n",
    "    returns: tuple, every other element of aTup. \n",
    "    '''\n",
    "    # Your Code Here\n",
    "    returnTup = ()\n",
    "    for i in range(0, len(aTup), 2):\n",
    "        returnTup += aTup[i:i+1]    \n",
    "    return returnTup\n",
    "        \n",
    "        \n",
    "### Test:\n",
    "aTup = ('I', 'am', 'a', 'test', 'tuple')\n",
    "print(oddTuples(aTup))"
   ]
  },
  {
   "cell_type": "markdown",
   "metadata": {},
   "source": [
    "----\n",
    "# Lists\n",
    "\n",
    "#### Orderd sequence\n",
    "\n",
    "#### Square brackets\n",
    "\n",
    "#### Contains elements\n",
    "\n",
    "#### Mutable\n",
    "\n",
    "#### Iterable\n"
   ]
  },
  {
   "cell_type": "code",
   "execution_count": 15,
   "metadata": {},
   "outputs": [
    {
     "data": {
      "text/plain": [
       "[1]"
      ]
     },
     "metadata": {},
     "output_type": "display_data"
    }
   ],
   "source": [
    "### Ex:\n",
    "\n",
    "x = [1, 2, [3, 'John', 4], 'Hi'] \n",
    "\n",
    "display(\n",
    "x[0:1],\n",
    "\n",
    ")"
   ]
  },
  {
   "cell_type": "code",
   "execution_count": 27,
   "metadata": {},
   "outputs": [
    {
     "data": {
      "text/plain": [
       "[4, 3, 6, 1, 4, 4, 1, 0, 100]"
      ]
     },
     "metadata": {},
     "output_type": "display_data"
    },
    {
     "data": {
      "text/plain": [
       "None"
      ]
     },
     "metadata": {},
     "output_type": "display_data"
    },
    {
     "data": {
      "text/plain": [
       "None"
      ]
     },
     "metadata": {},
     "output_type": "display_data"
    },
    {
     "data": {
      "text/plain": [
       "None"
      ]
     },
     "metadata": {},
     "output_type": "display_data"
    },
    {
     "data": {
      "text/plain": [
       "None"
      ]
     },
     "metadata": {},
     "output_type": "display_data"
    },
    {
     "data": {
      "text/plain": [
       "['q', 't', 'x']"
      ]
     },
     "metadata": {},
     "output_type": "display_data"
    },
    {
     "data": {
      "text/plain": [
       "None"
      ]
     },
     "metadata": {},
     "output_type": "display_data"
    },
    {
     "data": {
      "text/plain": [
       "'z'"
      ]
     },
     "metadata": {},
     "output_type": "display_data"
    },
    {
     "data": {
      "text/plain": [
       "0"
      ]
     },
     "metadata": {},
     "output_type": "display_data"
    },
    {
     "data": {
      "text/plain": [
       "None"
      ]
     },
     "metadata": {},
     "output_type": "display_data"
    },
    {
     "data": {
      "text/plain": [
       "3"
      ]
     },
     "metadata": {},
     "output_type": "display_data"
    },
    {
     "data": {
      "text/plain": [
       "2"
      ]
     },
     "metadata": {},
     "output_type": "display_data"
    },
    {
     "data": {
      "text/plain": [
       "7"
      ]
     },
     "metadata": {},
     "output_type": "display_data"
    },
    {
     "data": {
      "text/plain": [
       "None"
      ]
     },
     "metadata": {},
     "output_type": "display_data"
    }
   ],
   "source": [
    "### Ex:\n",
    "\n",
    "listA = [1, 4, 3, 0]\n",
    "listB = ['x', 'z', 't', 'q']\n",
    "\n",
    "display(\n",
    "    listA,\n",
    "    listA.sort(),\n",
    "    listA.insert(0,100),\n",
    "    listA.remove(3),\n",
    "    listA.append(7),\n",
    "#     listA+listB,\n",
    "    listB,\n",
    "    listB.sort(),\n",
    "    listB.pop(),\n",
    "    listB.count('a'),\n",
    "#     listB.remove('a')\n",
    "    listA.extend([4, 1, 6, 3, 4]),\n",
    "    listA.count(4),\n",
    "    listA.index(1),\n",
    "    listA.pop(4), # index\n",
    "    listA.reverse()\n",
    ")"
   ]
  },
  {
   "cell_type": "code",
   "execution_count": 28,
   "metadata": {},
   "outputs": [
    {
     "data": {
      "text/plain": [
       "True"
      ]
     },
     "execution_count": 28,
     "metadata": {},
     "output_type": "execute_result"
    }
   ],
   "source": [
    "cList = [6, 5, 4, 3, 2]\n",
    "dList = []\n",
    "for num in cList:\n",
    "    dList.append(num)\n",
    "cList == dList"
   ]
  },
  {
   "cell_type": "code",
   "execution_count": 29,
   "metadata": {},
   "outputs": [
    {
     "data": {
      "text/plain": [
       "False"
      ]
     },
     "execution_count": 29,
     "metadata": {},
     "output_type": "execute_result"
    }
   ],
   "source": [
    "cList is dList"
   ]
  },
  {
   "cell_type": "code",
   "execution_count": 30,
   "metadata": {},
   "outputs": [
    {
     "data": {
      "text/plain": [
       "[0, 1, 'hello', 3, 4, 5]"
      ]
     },
     "execution_count": 30,
     "metadata": {},
     "output_type": "execute_result"
    }
   ],
   "source": [
    "aList = [0, 1, 2, 3, 4, 5]\n",
    "aList[2] = 'hello'\n",
    "aList"
   ]
  },
  {
   "cell_type": "markdown",
   "metadata": {
    "collapsed": true
   },
   "source": [
    "-----\n",
    "**Exercise: apply to each 1** \n",
    "\n",
    "0/5 points (graded)\n",
    "\n",
    "ESTIMATED TIME TO COMPLETE: 2 minutes\n",
    "\n",
    "Here is the code for a function applyToEach:\n",
    "\n",
    "```\n",
    "def applyToEach(L, f):\n",
    "    for i in range(len(L)):\n",
    "        L[i] = f(L[i])\n",
    "```\n",
    "\n",
    "Assume that\n",
    "\n",
    "testList = [1, -4, 8, -9]\n",
    "\n",
    "\n",
    "For each of the following questions (which you may assume is evaluated independently of the previous questions, so that testList has the value indicated above), provide an expression using applyToEach, so that after evaluation testList has the indicated value. You may need to write a simple procedure in each question to help with this process. \n",
    "\n",
    "ex:\n",
    "```\n",
    "  >>> print(testList)\n",
    "  [1, 4, 8, 9]\n",
    "  \n",
    "```"
   ]
  },
  {
   "cell_type": "code",
   "execution_count": 6,
   "metadata": {},
   "outputs": [
    {
     "name": "stdout",
     "output_type": "stream",
     "text": [
      "1\n",
      "-4\n",
      "8\n",
      "-9\n",
      "[1, 4, 8, 9]\n"
     ]
    }
   ],
   "source": [
    "def applyToEach(L, f):\n",
    "    for i in range(len(L)):\n",
    "        L[i] = f(L[i])\n",
    "        \n",
    "def absfun(a):\n",
    "#     print(a)\n",
    "    return abs(a)\n",
    "\n",
    "testList = [1, -4, 8, -9]\n",
    "\n",
    "### Test: \n",
    "applyToEach(testList, absfun)\n",
    "print(testList)"
   ]
  },
  {
   "cell_type": "markdown",
   "metadata": {},
   "source": [
    "---\n",
    "**Exercise: apply to each 2**\n",
    "\n",
    "0.0/5.0 points (graded)\n",
    "\n",
    "ESTIMATED TIME TO COMPLETE: 4 minutes\n",
    "\n",
    "```\n",
    "  >>> print(testList)\n",
    "  [2, -3, 9, -8]\n",
    "```\n"
   ]
  },
  {
   "cell_type": "code",
   "execution_count": 7,
   "metadata": {},
   "outputs": [
    {
     "name": "stdout",
     "output_type": "stream",
     "text": [
      "[2, -3, 9, -8]\n"
     ]
    }
   ],
   "source": [
    "def addOne(a):\n",
    "    return a + 1\n",
    "\n",
    "testList = [1, -4, 8, -9]\n",
    "\n",
    "### Test: \n",
    "applyToEach(testList, addOne)\n",
    "print(testList)"
   ]
  },
  {
   "cell_type": "markdown",
   "metadata": {},
   "source": [
    "----\n",
    "\n",
    "**Exercise: apply to each 3**\n",
    "\n",
    "0.0/5.0 points (graded)\n",
    "\n",
    "ESTIMATED TIME TO COMPLETE: 4 minutes\n",
    "\n",
    "```\n",
    "  >>> print testList\n",
    "  [1, 16, 64, 81]\n",
    "```"
   ]
  },
  {
   "cell_type": "code",
   "execution_count": 8,
   "metadata": {},
   "outputs": [
    {
     "name": "stdout",
     "output_type": "stream",
     "text": [
      "[1, 16, 64, 81]\n"
     ]
    }
   ],
   "source": [
    "def powA(a):\n",
    "    return a**2\n",
    "\n",
    "testList = [1, -4, 8, -9]\n",
    "\n",
    "### Test: \n",
    "applyToEach(testList, powA)\n",
    "print(testList)"
   ]
  },
  {
   "cell_type": "markdown",
   "metadata": {},
   "source": [
    "-----\n",
    "\n",
    "**Exercise 5**\n",
    "\n",
    "3 points possible (graded)\n",
    "\n",
    "ESTIMATED TIME TO COMPLETE: 4 minutes\n",
    "\n",
    "Here is a different piece of code for working with lists: "
   ]
  },
  {
   "cell_type": "code",
   "execution_count": 13,
   "metadata": {},
   "outputs": [
    {
     "data": {
      "text/plain": [
       "[-2, 9, -1.5, 3]"
      ]
     },
     "metadata": {},
     "output_type": "display_data"
    },
    {
     "data": {
      "text/plain": [
       "[4.0, 9.0, 1.5, 3.0]"
      ]
     },
     "metadata": {},
     "output_type": "display_data"
    }
   ],
   "source": [
    "def applyEachTo(L, x):\n",
    "    result = []\n",
    "    for i in range(len(L)):\n",
    "        result.append(L[i](x))\n",
    "    return result\n",
    "\n",
    "def square(a):\n",
    "    return a*a\n",
    "\n",
    "def halve(a):\n",
    "    return a/2\n",
    "\n",
    "def inc(a):\n",
    "    return a+1\n",
    "\n",
    "display(\n",
    "    applyEachTo([inc, square, halve, abs], -3),\n",
    "    applyEachTo([inc, square, halve, abs], 3.0),\n",
    "#     applyEachTo([inc, max, int], -3),\n",
    ")"
   ]
  },
  {
   "cell_type": "code",
   "execution_count": null,
   "metadata": {
    "collapsed": true
   },
   "outputs": [],
   "source": []
  }
 ],
 "metadata": {
  "kernelspec": {
   "display_name": "Python 3",
   "language": "python",
   "name": "python3"
  },
  "language_info": {
   "codemirror_mode": {
    "name": "ipython",
    "version": 3
   },
   "file_extension": ".py",
   "mimetype": "text/x-python",
   "name": "python",
   "nbconvert_exporter": "python",
   "pygments_lexer": "ipython3",
   "version": "3.6.3"
  }
 },
 "nbformat": 4,
 "nbformat_minor": 2
}
