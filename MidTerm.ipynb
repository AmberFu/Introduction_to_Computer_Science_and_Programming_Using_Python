{
 "cells": [
  {
   "cell_type": "code",
   "execution_count": 6,
   "metadata": {},
   "outputs": [
    {
     "name": "stdout",
     "output_type": "stream",
     "text": [
      "<class 'str'>\n",
      "<class 'str'>\n",
      "<class 'str'>\n"
     ]
    }
   ],
   "source": [
    "L = {'1':1, '2':2, '3':3}\n",
    "L['2'] = 4\n",
    "for i in L.keys():\n",
    "    print(type(i))"
   ]
  },
  {
   "cell_type": "code",
   "execution_count": 10,
   "metadata": {},
   "outputs": [
    {
     "data": {
      "text/plain": [
       "str"
      ]
     },
     "execution_count": 10,
     "metadata": {},
     "output_type": "execute_result"
    }
   ],
   "source": [
    "s = '3'*1025\n",
    "type(s[1024])\n"
   ]
  },
  {
   "cell_type": "code",
   "execution_count": 11,
   "metadata": {},
   "outputs": [
    {
     "name": "stdout",
     "output_type": "stream",
     "text": [
      "('iBoy', 'iGirl', 'iQ', 'iC', 'iPaid', 'iPad')\n"
     ]
    }
   ],
   "source": [
    "for i in [ ( \"iBoy\", \"iGirl\", \"iQ\", \"iC\",\"iPaid\",\"iPad\") ]:\n",
    "    print(i)"
   ]
  },
  {
   "cell_type": "code",
   "execution_count": 12,
   "metadata": {},
   "outputs": [
    {
     "name": "stdout",
     "output_type": "stream",
     "text": [
      "iBoy\n",
      "iGirl\n",
      "iQ\n",
      "iC\n",
      "iPaid\n",
      "iPad\n"
     ]
    }
   ],
   "source": [
    "for i in (\"iBoy\", \"iGirl\", \"iQ\", \"iC\",\"iPaid\",\"iPad\"):\n",
    "    print(i)"
   ]
  },
  {
   "cell_type": "code",
   "execution_count": 14,
   "metadata": {},
   "outputs": [
    {
     "data": {
      "text/plain": [
       "36"
      ]
     },
     "execution_count": 14,
     "metadata": {},
     "output_type": "execute_result"
    }
   ],
   "source": [
    "def Square(x):\n",
    "    return SquareHelper(abs(x), abs(x))\n",
    "\n",
    "def SquareHelper(n, x):\n",
    "    if n == 0:\n",
    "        return 0\n",
    "    return SquareHelper(n-1, x) + x\n",
    "\n",
    "### \n",
    "Square(-6)"
   ]
  },
  {
   "cell_type": "markdown",
   "metadata": {},
   "source": [
    "-----\n",
    "**Problem 3**\n",
    "\n",
    "0.0/10.0 points (graded)\n",
    "\n",
    "Write a recursive Python function, given a non-negative integer N, to count and return the number of occurrences of the digit 7 in N.\n",
    "\n",
    "For example:\n",
    "\n",
    "```\n",
    "count7(717) -> 2\n",
    "count7(1237123) -> 1\n",
    "count7(8989) -> 0\n",
    "```\n",
    "\n",
    "Hint: Mod (%) by 10 gives you the rightmost digit (126 % 10 is 6), while doing integer division by 10 removes the rightmost digit (126 / 10 is 12).\n",
    "\n",
    "This function has to be **recursive**; you may _not_ use loops! This function takes in one integer and returns one integer."
   ]
  },
  {
   "cell_type": "code",
   "execution_count": 27,
   "metadata": {},
   "outputs": [
    {
     "data": {
      "text/plain": [
       "5"
      ]
     },
     "execution_count": 27,
     "metadata": {},
     "output_type": "execute_result"
    }
   ],
   "source": [
    "def count7(N):\n",
    "    '''\n",
    "    N: a non-negative integer\n",
    "    '''\n",
    "    # Your code here\n",
    "    if N >= 10 and N % 10 == 7:\n",
    "        return 1 + count7(N//10)\n",
    "    elif N < 10 and N % 10 == 7:\n",
    "        return 1\n",
    "    elif N >= 10:\n",
    "        return count7(N//10)\n",
    "    elif N < 10:\n",
    "        return 0\n",
    "        \n",
    "    \n",
    "### Test:\n",
    "\n",
    "count7(1977776478)"
   ]
  },
  {
   "cell_type": "markdown",
   "metadata": {},
   "source": [
    "-----\n",
    "**Problem 4**\n",
    "\n",
    "0.0/15.0 points (graded)\n",
    "\n",
    "Implement a function that meets the specifications below.\n",
    "\n",
    "```\n",
    "def deep_reverse(L):\n",
    "    \"\"\" assumes L is a list of lists whose elements are ints\n",
    "    Mutates L such that it reverses its elements and also \n",
    "    reverses the order of the int elements in every element of L. \n",
    "    It does not return anything.\n",
    "    \"\"\"\n",
    "    # Your code here\n",
    "```\n",
    "\n",
    "For example, if L = [[1, 2], [3, 4], [5, 6, 7]] then deep_reverse(L) mutates L to be [[7, 6, 5], [4, 3], [2, 1]]\n",
    "\n",
    "Paste your entire function, including the definition, in the box below. Do not leave any debugging print statements.\n",
    "\n",
    "Please read carefully. The question states that you need to mutate L. Your code must work when you do this:\n",
    "\n",
    "```\n",
    "L = [[0, 1, 2], [1, 2, 3], [3, 2, 1], [10, -10, 100]]\n",
    "deep_reverse(L) \n",
    "print(L)\n",
    "\n",
    "\n",
    "# Test: run_code([[2, -1, 10], [1, 2, 3, 4, 5, 6, 7, 8, 9, 10, 101, 10, 1, 1, 5, 4, 3]])\n",
    "\n",
    "Correct output:\n",
    "\n",
    "    [[3, 4, 5, 1, 1, 10, 101, 10, 9, 8, 7, 6, 5, 4, 3, 2, 1], [10, -1, 2]]\n",
    "    None\n",
    "\n",
    "\n",
    "# Test: run_code([[0, 1, 2], [1, 2, 3], [3, 2, 1], [10, -10, 100]])\n",
    "\n",
    "Correct output:\n",
    "\n",
    "    [[100, -10, 10], [1, 2, 3], [3, 2, 1], [2, 1, 0]]\n",
    "    None\n",
    "\n",
    "``` "
   ]
  },
  {
   "cell_type": "code",
   "execution_count": 58,
   "metadata": {},
   "outputs": [
    {
     "name": "stdout",
     "output_type": "stream",
     "text": [
      "[[100, -10, 10], [1, 2, 3], [3, 2, 1], [2, 1, 0]]\n"
     ]
    }
   ],
   "source": [
    "# Paste your function here\n",
    "def deep_reverse(L):\n",
    "    \"\"\" assumes L is a list of lists whose elements are ints\n",
    "    Mutates L such that it reverses its elements and also \n",
    "    reverses the order of the int elements in every element of L. \n",
    "    It does not return anything.\n",
    "    \"\"\"\n",
    "    # Your code here\n",
    "    Lr = L[:]\n",
    "    loopN = 0\n",
    "    for i in reversed(Lr):\n",
    "        L2 = []\n",
    "        for j in reversed(i):\n",
    "            L2.append(j)\n",
    "        L[loopN] = L2\n",
    "        loopN += 1\n",
    "    \n",
    "### Test:\n",
    "\n",
    "# L = [[1, 2], [3, 4], [5, 6, 7]]\n",
    "L = [[0, 1, 2], [1, 2, 3], [3, 2, 1], [10, -10, 100]]\n",
    "deep_reverse(L)\n",
    "print(L)\n",
    "# Ans: [[100, -10, 10], [1, 2, 3], [3, 2, 1], [2, 1, 0]]"
   ]
  },
  {
   "cell_type": "markdown",
   "metadata": {},
   "source": [
    "----\n",
    "**Problem 5**\n",
    "\n",
    "0.0/20.0 points (graded)\n",
    "\n",
    "Write a Python function that returns a list of keys in aDict with the value target. The list of keys you return should be sorted in **increasing order**. \n",
    "\n",
    "The keys and values in aDict are both integers. (If aDict does not contain the value target, you should return an empty list.)\n",
    "\n",
    "This function takes in a dictionary and an integer and returns a list.\n",
    "\n",
    "```\n",
    "def keysWithValue(aDict, target):\n",
    "    '''\n",
    "    aDict: a dictionary\n",
    "    target: an integer\n",
    "    '''\n",
    "    # Your code here  \n",
    "```"
   ]
  },
  {
   "cell_type": "code",
   "execution_count": 61,
   "metadata": {},
   "outputs": [
    {
     "data": {
      "text/plain": [
       "['2', '3']"
      ]
     },
     "execution_count": 61,
     "metadata": {},
     "output_type": "execute_result"
    }
   ],
   "source": [
    "def keysWithValue(aDict, target):\n",
    "    '''\n",
    "    aDict: a dictionary\n",
    "    target: an integer\n",
    "    '''\n",
    "    # Your code here  \n",
    "    key_list = []\n",
    "    for i in aDict.keys():\n",
    "        if aDict[i] == target:\n",
    "            key_list.append(i)\n",
    "    key_list.sort()\n",
    "    return key_list\n",
    "    \n",
    "    \n",
    "### Test:\n",
    "aDict = {'2':2, '3':2, '4':4}\n",
    "target = 2\n",
    "keysWithValue(aDict, target)\n"
   ]
  },
  {
   "cell_type": "markdown",
   "metadata": {},
   "source": [
    "----\n",
    "**Problem 6**\n",
    "\n",
    "0.0/20.0 points (graded)\n",
    "\n",
    "Write a recursive Python function, given a non-negative integer N, to calculate and return the sum of its digits.\n",
    "\n",
    "Hint: Mod (%) by 10 gives you the rightmost digit (126 % 10 is 6), while doing integer division by 10 removes the rightmost digit (126 // 10 is 12).\n",
    "\n",
    "This function has to be recursive; you may not use loops!\n",
    "\n",
    "This function takes in one integer and returns one integer.\n",
    "\n",
    "```\n",
    "def sumDigits(N):\n",
    "    '''\n",
    "    N: a non-negative integer\n",
    "    '''\n",
    "    # Your code here\n",
    "    \n",
    "```"
   ]
  },
  {
   "cell_type": "code",
   "execution_count": 65,
   "metadata": {},
   "outputs": [
    {
     "data": {
      "text/plain": [
       "34"
      ]
     },
     "execution_count": 65,
     "metadata": {},
     "output_type": "execute_result"
    }
   ],
   "source": [
    "def sumDigits(N):\n",
    "    '''\n",
    "    N: a non-negative integer\n",
    "    '''\n",
    "    # Your code here\n",
    "    if N < 10:\n",
    "        return N\n",
    "    else:\n",
    "        return N%10 + sumDigits(N//10)\n",
    "    \n",
    "### Test:\n",
    "sumDigits(218977)"
   ]
  },
  {
   "cell_type": "markdown",
   "metadata": {},
   "source": [
    "----\n",
    "**Problem 7**\n",
    "\n",
    "0.0/20.0 points (graded)\n",
    "\n",
    "Write a function called general_poly, that meets the specifications below. For example, general_poly([1, 2, 3, 4])(10) should evaluate to 1234 because 1x10^3 + 2x10^2 + 3x10^1 + 4x10^0.\n",
    "\n",
    "```\n",
    "def general_poly (L):\n",
    "    \"\"\" L, a list of numbers (n0, n1, n2, ... nk)\n",
    "    Returns a function, which when applied to a value x, returns the value \n",
    "    n0 * x^k + n1 * x^(k-1) + ... nk * x^0 \"\"\"\n",
    "    #YOUR CODE HERE\n",
    "    \n",
    "```"
   ]
  },
  {
   "cell_type": "code",
   "execution_count": 6,
   "metadata": {},
   "outputs": [
    {
     "data": {
      "text/plain": [
       "1235"
      ]
     },
     "execution_count": 6,
     "metadata": {},
     "output_type": "execute_result"
    }
   ],
   "source": [
    "def general_poly (L):\n",
    "    \"\"\" L, a list of numbers (n0, n1, n2, ... nk)\n",
    "    Returns a function, which when applied to a value x, returns the value \n",
    "    n0 * x^k + n1 * x^(k-1) + ... nk * x^0 \n",
    "    general_poly([1, 2, 3, 5])(10)\"\"\"\n",
    "    def to_apply (x):\n",
    "        n = 0\n",
    "        for i in L:\n",
    "            n = x*n + i\n",
    "        return n\n",
    "    return to_apply\n",
    "    \n",
    "    \n",
    "### Test:\n",
    "general_poly([1, 2, 3, 5])(10)"
   ]
  },
  {
   "cell_type": "code",
   "execution_count": 9,
   "metadata": {},
   "outputs": [
    {
     "data": {
      "text/plain": [
       "1234"
      ]
     },
     "execution_count": 9,
     "metadata": {},
     "output_type": "execute_result"
    }
   ],
   "source": [
    "def general_poly (L):\n",
    "    \"\"\" L, a list of numbers (n0, n1, n2, ... nk)\n",
    "    Returns a function, which when applied to a value x, returns the value \n",
    "    n0 * x^k + n1 * x^(k-1) + ... nk * x^0 \"\"\"\n",
    "    #YOUR CODE HERE\n",
    "    def testFun(x):\n",
    "        i = 0\n",
    "        ans = 0\n",
    "        for l in reversed(L):\n",
    "            ans += l*pow(x,i)\n",
    "            i += 1\n",
    "        return ans\n",
    "    \n",
    "    return testFun\n",
    "    \n",
    "# def testFun(L, x):\n",
    "#     i = 0\n",
    "#     ans = 0\n",
    "#     for l in reversed(L):\n",
    "#         ans += l*pow(x,i)\n",
    "#         i += 1\n",
    "#     return ans\n",
    "\n",
    "    \n",
    "### Test: \n",
    "# x = 10\n",
    "# general_poly([9,8,0,5])\n",
    "\n",
    "general_poly([1, 2, 3, 4])(10)"
   ]
  },
  {
   "cell_type": "code",
   "execution_count": null,
   "metadata": {
    "collapsed": true
   },
   "outputs": [],
   "source": []
  }
 ],
 "metadata": {
  "kernelspec": {
   "display_name": "Python 3",
   "language": "python",
   "name": "python3"
  },
  "language_info": {
   "codemirror_mode": {
    "name": "ipython",
    "version": 3
   },
   "file_extension": ".py",
   "mimetype": "text/x-python",
   "name": "python",
   "nbconvert_exporter": "python",
   "pygments_lexer": "ipython3",
   "version": "3.6.3"
  }
 },
 "nbformat": 4,
 "nbformat_minor": 2
}
