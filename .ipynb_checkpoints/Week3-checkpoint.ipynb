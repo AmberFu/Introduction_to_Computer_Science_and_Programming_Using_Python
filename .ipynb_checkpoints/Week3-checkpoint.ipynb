{
 "cells": [
  {
   "cell_type": "markdown",
   "metadata": {},
   "source": [
    "# Tuples\n",
    "\n",
    "#### One kind of data structures\n",
    "\n",
    "Represented with Parentheses. (小括號, 圓括號）\n",
    "\n",
    "#### _Ordered_ sequence of elements\n",
    "\n",
    "Can include any kind of element within them.\n",
    "\n",
    "#### _Immutable_\n",
    "\n",
    "Cannot change element values.\n",
    "\n",
    "#### _Extra comma_ means a tuple with one element\n",
    "\n",
    "Ex: (\"one\", )\n",
    "\n",
    "#### Easy to _swap_ variable values\n",
    "\n",
    "Use tuple to change x,y values: (x,y)=(y,x)\n",
    "\n",
    "In other way, I need to use a tmp variable to hold one values then give it back.\n",
    "\n",
    "tmp = x ; x = y ; y = tmp (Need 3 steps)\n",
    "\n",
    "#### Use to Return more than one value from a function\n",
    "\n",
    "```\n",
    "def returnMoreValue(a,b,c):\n",
    "    d = a+b\n",
    "    e = a//c\n",
    "    f = b%c\n",
    "    return (d,e,f)\n",
    "```\n",
    "    \n",
    "#### Can _iterate_ over tuples\n",
    "\n",
    "Ex: aTuple((a,'A'), (b,'B'), (c,'C'))\n",
    "\n",
    "-----"
   ]
  },
  {
   "cell_type": "code",
   "execution_count": 6,
   "metadata": {},
   "outputs": [
    {
     "data": {
      "text/plain": [
       "'i'"
      ]
     },
     "metadata": {},
     "output_type": "display_data"
    },
    {
     "data": {
      "text/plain": [
       "(1, 2, (3, 'John', 4))"
      ]
     },
     "metadata": {},
     "output_type": "display_data"
    },
    {
     "data": {
      "text/plain": [
       "True"
      ]
     },
     "metadata": {},
     "output_type": "display_data"
    },
    {
     "data": {
      "text/plain": [
       "False"
      ]
     },
     "metadata": {},
     "output_type": "display_data"
    }
   ],
   "source": [
    "### Exercise:\n",
    "\n",
    "x = (1, 2, (3, 'John', 4), 'Hi')\n",
    "\n",
    "display(\n",
    "x[-1][-1],\n",
    "x[0:-1],\n",
    "2 in x,\n",
    "3 in x,\n",
    ")"
   ]
  },
  {
   "cell_type": "markdown",
   "metadata": {},
   "source": [
    "**Exercise: odd tuples**\n",
    "\n",
    "0.0/5.0 points (graded)\n",
    "\n",
    "ESTIMATED TIME TO COMPLETE: 5 minutes\n",
    "\n",
    "```\n",
    "Write a procedure called oddTuples, which takes a tuple as input, and returns a new tuple as output, where every other element of the input tuple is copied, starting with the first one. So if test is the tuple ('I', 'am', 'a', 'test', 'tuple'), then evaluating oddTuples on this input would return the tuple ('I', 'a', 'tuple').\n",
    "```"
   ]
  },
  {
   "cell_type": "code",
   "execution_count": 14,
   "metadata": {},
   "outputs": [
    {
     "name": "stdout",
     "output_type": "stream",
     "text": [
      "('I', 'a', 'tuple')\n"
     ]
    }
   ],
   "source": [
    "def oddTuples(aTup):\n",
    "    '''\n",
    "    aTup: a tuple\n",
    "    \n",
    "    returns: tuple, every other element of aTup. \n",
    "    '''\n",
    "    # Your Code Here\n",
    "    returnTup = ()\n",
    "    for i in range(0, len(aTup), 2):\n",
    "        returnTup += aTup[i:i+1]    \n",
    "    return returnTup\n",
    "        \n",
    "        \n",
    "### Test:\n",
    "aTup = ('I', 'am', 'a', 'test', 'tuple')\n",
    "print(oddTuples(aTup))"
   ]
  },
  {
   "cell_type": "markdown",
   "metadata": {},
   "source": [
    "----\n",
    "# Lists\n",
    "\n",
    "#### Orderd sequence\n",
    "\n",
    "#### Square brackets\n",
    "\n",
    "#### Contains elements\n",
    "\n",
    "#### Mutable\n",
    "\n",
    "#### Iterable\n"
   ]
  },
  {
   "cell_type": "code",
   "execution_count": 15,
   "metadata": {},
   "outputs": [
    {
     "data": {
      "text/plain": [
       "[1]"
      ]
     },
     "metadata": {},
     "output_type": "display_data"
    }
   ],
   "source": [
    "### Ex:\n",
    "\n",
    "x = [1, 2, [3, 'John', 4], 'Hi'] \n",
    "\n",
    "display(\n",
    "x[0:1],\n",
    "\n",
    ")"
   ]
  },
  {
   "cell_type": "code",
   "execution_count": 27,
   "metadata": {},
   "outputs": [
    {
     "data": {
      "text/plain": [
       "[4, 3, 6, 1, 4, 4, 1, 0, 100]"
      ]
     },
     "metadata": {},
     "output_type": "display_data"
    },
    {
     "data": {
      "text/plain": [
       "None"
      ]
     },
     "metadata": {},
     "output_type": "display_data"
    },
    {
     "data": {
      "text/plain": [
       "None"
      ]
     },
     "metadata": {},
     "output_type": "display_data"
    },
    {
     "data": {
      "text/plain": [
       "None"
      ]
     },
     "metadata": {},
     "output_type": "display_data"
    },
    {
     "data": {
      "text/plain": [
       "None"
      ]
     },
     "metadata": {},
     "output_type": "display_data"
    },
    {
     "data": {
      "text/plain": [
       "['q', 't', 'x']"
      ]
     },
     "metadata": {},
     "output_type": "display_data"
    },
    {
     "data": {
      "text/plain": [
       "None"
      ]
     },
     "metadata": {},
     "output_type": "display_data"
    },
    {
     "data": {
      "text/plain": [
       "'z'"
      ]
     },
     "metadata": {},
     "output_type": "display_data"
    },
    {
     "data": {
      "text/plain": [
       "0"
      ]
     },
     "metadata": {},
     "output_type": "display_data"
    },
    {
     "data": {
      "text/plain": [
       "None"
      ]
     },
     "metadata": {},
     "output_type": "display_data"
    },
    {
     "data": {
      "text/plain": [
       "3"
      ]
     },
     "metadata": {},
     "output_type": "display_data"
    },
    {
     "data": {
      "text/plain": [
       "2"
      ]
     },
     "metadata": {},
     "output_type": "display_data"
    },
    {
     "data": {
      "text/plain": [
       "7"
      ]
     },
     "metadata": {},
     "output_type": "display_data"
    },
    {
     "data": {
      "text/plain": [
       "None"
      ]
     },
     "metadata": {},
     "output_type": "display_data"
    }
   ],
   "source": [
    "### Ex:\n",
    "\n",
    "listA = [1, 4, 3, 0]\n",
    "listB = ['x', 'z', 't', 'q']\n",
    "\n",
    "display(\n",
    "    listA,\n",
    "    listA.sort(),\n",
    "    listA.insert(0,100),\n",
    "    listA.remove(3),\n",
    "    listA.append(7),\n",
    "#     listA+listB,\n",
    "    listB,\n",
    "    listB.sort(),\n",
    "    listB.pop(),\n",
    "    listB.count('a'),\n",
    "#     listB.remove('a')\n",
    "    listA.extend([4, 1, 6, 3, 4]),\n",
    "    listA.count(4),\n",
    "    listA.index(1),\n",
    "    listA.pop(4), # index\n",
    "    listA.reverse()\n",
    ")"
   ]
  },
  {
   "cell_type": "code",
   "execution_count": 28,
   "metadata": {},
   "outputs": [
    {
     "data": {
      "text/plain": [
       "True"
      ]
     },
     "execution_count": 28,
     "metadata": {},
     "output_type": "execute_result"
    }
   ],
   "source": [
    "cList = [6, 5, 4, 3, 2]\n",
    "dList = []\n",
    "for num in cList:\n",
    "    dList.append(num)\n",
    "cList == dList"
   ]
  },
  {
   "cell_type": "code",
   "execution_count": 29,
   "metadata": {},
   "outputs": [
    {
     "data": {
      "text/plain": [
       "False"
      ]
     },
     "execution_count": 29,
     "metadata": {},
     "output_type": "execute_result"
    }
   ],
   "source": [
    "cList is dList"
   ]
  },
  {
   "cell_type": "code",
   "execution_count": 30,
   "metadata": {},
   "outputs": [
    {
     "data": {
      "text/plain": [
       "[0, 1, 'hello', 3, 4, 5]"
      ]
     },
     "execution_count": 30,
     "metadata": {},
     "output_type": "execute_result"
    }
   ],
   "source": [
    "aList = [0, 1, 2, 3, 4, 5]\n",
    "aList[2] = 'hello'\n",
    "aList"
   ]
  },
  {
   "cell_type": "markdown",
   "metadata": {
    "collapsed": true
   },
   "source": [
    "-----\n",
    "**Exercise: apply to each 1** \n",
    "\n",
    "0/5 points (graded)\n",
    "\n",
    "ESTIMATED TIME TO COMPLETE: 2 minutes\n",
    "\n",
    "Here is the code for a function applyToEach:\n",
    "\n",
    "```\n",
    "def applyToEach(L, f):\n",
    "    for i in range(len(L)):\n",
    "        L[i] = f(L[i])\n",
    "```\n",
    "\n",
    "Assume that\n",
    "\n",
    "testList = [1, -4, 8, -9]\n",
    "\n",
    "\n",
    "For each of the following questions (which you may assume is evaluated independently of the previous questions, so that testList has the value indicated above), provide an expression using applyToEach, so that after evaluation testList has the indicated value. You may need to write a simple procedure in each question to help with this process. \n",
    "\n",
    "ex:\n",
    "```\n",
    "  >>> print(testList)\n",
    "  [1, 4, 8, 9]\n",
    "  \n",
    "```"
   ]
  },
  {
   "cell_type": "code",
   "execution_count": 6,
   "metadata": {},
   "outputs": [
    {
     "name": "stdout",
     "output_type": "stream",
     "text": [
      "1\n",
      "-4\n",
      "8\n",
      "-9\n",
      "[1, 4, 8, 9]\n"
     ]
    }
   ],
   "source": [
    "def applyToEach(L, f):\n",
    "    for i in range(len(L)):\n",
    "        L[i] = f(L[i])\n",
    "        \n",
    "def absfun(a):\n",
    "#     print(a)\n",
    "    return abs(a)\n",
    "\n",
    "testList = [1, -4, 8, -9]\n",
    "\n",
    "### Test: \n",
    "applyToEach(testList, absfun)\n",
    "print(testList)"
   ]
  },
  {
   "cell_type": "markdown",
   "metadata": {},
   "source": [
    "---\n",
    "**Exercise: apply to each 2**\n",
    "\n",
    "0.0/5.0 points (graded)\n",
    "\n",
    "ESTIMATED TIME TO COMPLETE: 4 minutes\n",
    "\n",
    "```\n",
    "  >>> print(testList)\n",
    "  [2, -3, 9, -8]\n",
    "```\n"
   ]
  },
  {
   "cell_type": "code",
   "execution_count": 7,
   "metadata": {},
   "outputs": [
    {
     "name": "stdout",
     "output_type": "stream",
     "text": [
      "[2, -3, 9, -8]\n"
     ]
    }
   ],
   "source": [
    "def addOne(a):\n",
    "    return a + 1\n",
    "\n",
    "testList = [1, -4, 8, -9]\n",
    "\n",
    "### Test: \n",
    "applyToEach(testList, addOne)\n",
    "print(testList)"
   ]
  },
  {
   "cell_type": "markdown",
   "metadata": {},
   "source": [
    "----\n",
    "\n",
    "**Exercise: apply to each 3**\n",
    "\n",
    "0.0/5.0 points (graded)\n",
    "\n",
    "ESTIMATED TIME TO COMPLETE: 4 minutes\n",
    "\n",
    "```\n",
    "  >>> print testList\n",
    "  [1, 16, 64, 81]\n",
    "```"
   ]
  },
  {
   "cell_type": "code",
   "execution_count": 8,
   "metadata": {},
   "outputs": [
    {
     "name": "stdout",
     "output_type": "stream",
     "text": [
      "[1, 16, 64, 81]\n"
     ]
    }
   ],
   "source": [
    "def powA(a):\n",
    "    return a**2\n",
    "\n",
    "testList = [1, -4, 8, -9]\n",
    "\n",
    "### Test: \n",
    "applyToEach(testList, powA)\n",
    "print(testList)"
   ]
  },
  {
   "cell_type": "markdown",
   "metadata": {},
   "source": [
    "-----\n",
    "\n",
    "**Exercise 5**\n",
    "\n",
    "3 points possible (graded)\n",
    "\n",
    "ESTIMATED TIME TO COMPLETE: 4 minutes\n",
    "\n",
    "Here is a different piece of code for working with lists: "
   ]
  },
  {
   "cell_type": "code",
   "execution_count": 13,
   "metadata": {},
   "outputs": [
    {
     "data": {
      "text/plain": [
       "[-2, 9, -1.5, 3]"
      ]
     },
     "metadata": {},
     "output_type": "display_data"
    },
    {
     "data": {
      "text/plain": [
       "[4.0, 9.0, 1.5, 3.0]"
      ]
     },
     "metadata": {},
     "output_type": "display_data"
    }
   ],
   "source": [
    "def applyEachTo(L, x):\n",
    "    result = []\n",
    "    for i in range(len(L)):\n",
    "        result.append(L[i](x))\n",
    "    return result\n",
    "\n",
    "def square(a):\n",
    "    return a*a\n",
    "\n",
    "def halve(a):\n",
    "    return a/2\n",
    "\n",
    "def inc(a):\n",
    "    return a+1\n",
    "\n",
    "display(\n",
    "    applyEachTo([inc, square, halve, abs], -3),\n",
    "    applyEachTo([inc, square, halve, abs], 3.0),\n",
    "#     applyEachTo([inc, max, int], -3),\n",
    ")"
   ]
  },
  {
   "cell_type": "markdown",
   "metadata": {
    "collapsed": true
   },
   "source": [
    "-----\n",
    "\n",
    "## Dictionary 字典\n",
    "\n",
    "1. mutable\n",
    "\n",
    "2. No Order\n",
    "\n",
    "3. {'key':'values'}\n",
    "\n",
    "----\n",
    "\n",
    "### List vs Dictionary:\n",
    "\n",
    "List | Dictionary\n",
    "----- | --------\n",
    "**Ordered** sequence of elements | **Matches** \"keys\" to \"values\"\n",
    "indices have an **order** | **No Order** is guaranteed\n",
    "index is an **integer** | key can be any **Immutable** type"
   ]
  },
  {
   "cell_type": "code",
   "execution_count": 9,
   "metadata": {},
   "outputs": [
    {
     "data": {
      "text/plain": [
       "{'a': 'anteater', 'b': 'baboon', 'c': 'coati', 'd': 'donkey'}"
      ]
     },
     "metadata": {},
     "output_type": "display_data"
    },
    {
     "data": {
      "text/plain": [
       "'coati'"
      ]
     },
     "metadata": {},
     "output_type": "display_data"
    },
    {
     "data": {
      "text/plain": [
       "4"
      ]
     },
     "metadata": {},
     "output_type": "display_data"
    },
    {
     "data": {
      "text/plain": [
       "'anteater'"
      ]
     },
     "metadata": {},
     "output_type": "display_data"
    },
    {
     "data": {
      "text/plain": [
       "8"
      ]
     },
     "metadata": {},
     "output_type": "display_data"
    },
    {
     "data": {
      "text/plain": [
       "False"
      ]
     },
     "metadata": {},
     "output_type": "display_data"
    },
    {
     "data": {
      "text/plain": [
       "True"
      ]
     },
     "metadata": {},
     "output_type": "display_data"
    },
    {
     "data": {
      "text/plain": [
       "True"
      ]
     },
     "metadata": {},
     "output_type": "display_data"
    },
    {
     "data": {
      "text/plain": [
       "dict_keys(['a', 'b', 'c', 'd'])"
      ]
     },
     "metadata": {},
     "output_type": "display_data"
    }
   ],
   "source": [
    "# Ex1:\n",
    "animals = {'a': 'aardvark', 'b': 'baboon', 'c': 'coati'}\n",
    "\n",
    "animals['d'] = 'donkey'\n",
    "\n",
    "animals['a'] = 'anteater'\n",
    "\n",
    "display(\n",
    "    animals,\n",
    "    animals['c'],\n",
    "#     animals['donkey'],\n",
    "    len(animals),\n",
    "    animals['a'],\n",
    "    len(animals['a']),\n",
    "    'baboon' in animals,\n",
    "    'donkey' in animals.values(),\n",
    "    'b' in animals,\n",
    "    animals.keys()\n",
    ")"
   ]
  },
  {
   "cell_type": "code",
   "execution_count": 10,
   "metadata": {},
   "outputs": [
    {
     "data": {
      "text/plain": [
       "3"
      ]
     },
     "metadata": {},
     "output_type": "display_data"
    },
    {
     "data": {
      "text/plain": [
       "dict_values(['anteater', 'coati', 'donkey'])"
      ]
     },
     "metadata": {},
     "output_type": "display_data"
    }
   ],
   "source": [
    "del animals['b']\n",
    "\n",
    "display(\n",
    "    len(animals),\n",
    "    animals.values()\n",
    ")"
   ]
  },
  {
   "cell_type": "markdown",
   "metadata": {},
   "source": [
    "**Exercise: how many**\n",
    "\n",
    "0.0/5.0 points (graded)\n",
    "\n",
    "ESTIMATED TIME TO COMPLETE: 6 minutes\n",
    "\n",
    "Consider the following sequence of expressions:\n",
    "\n",
    "```\n",
    "animals = { 'a': ['aardvark'], 'b': ['baboon'], 'c': ['coati']}\n",
    "\n",
    "animals['d'] = ['donkey']\n",
    "animals['d'].append('dog')\n",
    "animals['d'].append('dingo')\n",
    "```\n",
    "\n",
    "We want to write some simple procedures that work on dictionaries to return information.\n",
    "\n",
    "First, write a procedure, called how_many, which returns the sum of the number of values associated with a dictionary. For example:\n",
    "\n",
    "```\n",
    ">>> print(how_many(animals))\n",
    "6\n",
    "```"
   ]
  },
  {
   "cell_type": "code",
   "execution_count": 14,
   "metadata": {},
   "outputs": [
    {
     "data": {
      "text/plain": [
       "{'a': ['aardvark'],\n",
       " 'b': ['baboon'],\n",
       " 'c': ['coati'],\n",
       " 'd': ['donkey', 'dog', 'dingo']}"
      ]
     },
     "metadata": {},
     "output_type": "display_data"
    },
    {
     "data": {
      "text/plain": [
       "dict_values([['aardvark'], ['baboon'], ['coati'], ['donkey', 'dog', 'dingo']])"
      ]
     },
     "metadata": {},
     "output_type": "display_data"
    }
   ],
   "source": [
    "### Ex2:\n",
    "\n",
    "animals = { 'a': ['aardvark'], 'b': ['baboon'], 'c': ['coati']}\n",
    "\n",
    "animals['d'] = ['donkey']\n",
    "animals['d'].append('dog')\n",
    "animals['d'].append('dingo')\n",
    "\n",
    "display(\n",
    "    animals,\n",
    "    animals.values(),\n",
    ")"
   ]
  },
  {
   "cell_type": "code",
   "execution_count": 15,
   "metadata": {},
   "outputs": [
    {
     "data": {
      "text/plain": [
       "6"
      ]
     },
     "execution_count": 15,
     "metadata": {},
     "output_type": "execute_result"
    }
   ],
   "source": [
    "def how_many(aDict):\n",
    "    '''\n",
    "    aDict: A dictionary, where all the values are lists.\n",
    "\n",
    "    returns: int, how many values are in the dictionary.\n",
    "    '''\n",
    "    # Your Code Here\n",
    "    \n",
    "    num = 0\n",
    "    \n",
    "    for v in aDict.values():\n",
    "        num = num + len(v)\n",
    "        \n",
    "    return num\n",
    "\n",
    "### Test:\n",
    "how_many(animals)"
   ]
  },
  {
   "cell_type": "markdown",
   "metadata": {},
   "source": [
    "-----\n",
    "**Exercise: biggest**\n",
    "\n",
    "0.0/5.0 points (graded)\n",
    "\n",
    "ESTIMATED TIME TO COMPLETE: 7 minutes\n",
    "\n",
    "Consider the following sequence of expressions:\n",
    "\n",
    "```\n",
    "animals = { 'a': ['aardvark'], 'b': ['baboon'], 'c': ['coati']}\n",
    "\n",
    "animals['d'] = ['donkey']\n",
    "animals['d'].append('dog')\n",
    "animals['d'].append('dingo')\n",
    "```\n",
    "\n",
    "We want to write some simple procedures that work on dictionaries to return information.\n",
    "\n",
    "This time, write a procedure, called biggest, which returns the key corresponding to the entry with the largest number of values associated with it. If there is more than one such entry, return any one of the matching keys.\n",
    "\n",
    "Example usage:\n",
    "\n",
    "```\n",
    ">>> biggest(animals)\n",
    "'d'\n",
    "```\n",
    "\n",
    "If there are no values in the dictionary, biggest should return None.\n"
   ]
  },
  {
   "cell_type": "code",
   "execution_count": 25,
   "metadata": {},
   "outputs": [
    {
     "data": {
      "text/plain": [
       "'d'"
      ]
     },
     "execution_count": 25,
     "metadata": {},
     "output_type": "execute_result"
    }
   ],
   "source": [
    "animals = { 'a': ['aardvark'], 'b': ['baboon'], 'c': ['coati']}\n",
    "\n",
    "animals['d'] = ['donkey']\n",
    "animals['d'].append('dog')\n",
    "animals['d'].append('dingo')\n",
    "\n",
    "def biggest(aDict):\n",
    "    '''\n",
    "    aDict: A dictionary, where all the values are lists.\n",
    "\n",
    "    returns: The key with the largest number of values associated with it\n",
    "    '''\n",
    "    # Your Code Here\n",
    "    if len(aDict) == 0:\n",
    "        return None\n",
    "    else:\n",
    "        NumL = []\n",
    "        freq = {}\n",
    "        for i in aDict:\n",
    "            freq[i] = len(aDict[i])\n",
    "            NumL.append(len(aDict[i]))\n",
    "\n",
    "        for i in aDict:\n",
    "            if freq[i] == max(NumL):\n",
    "                return i\n",
    "# Test:\n",
    "biggest(animals)\n",
    "# print(biggest({}))"
   ]
  },
  {
   "cell_type": "markdown",
   "metadata": {},
   "source": [
    "------\n",
    "## The classic wordgame Hangman\n",
    "\n",
    "#### Requirements\n",
    "\n",
    "Here are the requirements for your game:\n",
    "\n",
    "1. The computer must select a word at random from the list of available words that was provided in words.txt. The functions for loading the word list and selecting a random word have already been provided for you in ps3_hangman.py.\n",
    "\n",
    "2. The game must be interactive; the flow of the game should go as follows:\n",
    "\n",
    "    * At the start of the game, let the user know how many letters the computer's word contains.\n",
    "\n",
    "    * Ask the user to supply one guess (i.e. letter) per round.\n",
    "\n",
    "    * The user should receive feedback immediately after each guess about whether their guess appears in the computer's word.\n",
    "\n",
    "    * After each round, you should also display to the user the partially guessed word so far, as well as letters that the user has not yet guessed.\n",
    "\n",
    "3. Some additional rules of the game:\n",
    "\n",
    "    * A user is allowed 8 guesses. Make sure to remind the user of how many guesses s/he has left after each round. Assume that players will only ever submit one character at a time (A-Z).\n",
    "\n",
    "    * A user loses a guess only when s/he guesses incorrectly.\n",
    "\n",
    "    * If the user guesses the same letter twice, do not take away a guess - instead, print a message letting them know they've already guessed that letter and ask them to try again.\n",
    "\n",
    "    * The game should end when the user constructs the full word or runs out of guesses. If the player runs out of guesses (s/he \"loses\"), reveal the word to the user when the game ends.\n",
    "\n",
    "#### Sample Output\n",
    "\n",
    "The output of a winning game should look like this...\n",
    "\n",
    "```\n",
    "\tLoading word list from file...\n",
    "\t55900 words loaded.\n",
    "\tWelcome to the game, Hangman!\n",
    "\tI am thinking of a word that is 4 letters long.\n",
    "\t-------------\n",
    "\tYou have 8 guesses left.\n",
    "\tAvailable letters: abcdefghijklmnopqrstuvwxyz\n",
    "\tPlease guess a letter: a\n",
    "\tGood guess: _ a_ _\n",
    "\t------------\n",
    "\tYou have 8 guesses left.\n",
    "\tAvailable letters: bcdefghijklmnopqrstuvwxyz\n",
    "\tPlease guess a letter: a\n",
    "\tOops! You've already guessed that letter: _ a_ _\n",
    "\t------------\n",
    "\tYou have 8 guesses left.\n",
    "\tAvailable letters: bcdefghijklmnopqrstuvwxyz\n",
    "\tPlease guess a letter: s\n",
    "\tOops! That letter is not in my word: _ a_ _\n",
    "\t------------\n",
    "\tYou have 7 guesses left.\n",
    "\tAvailable letters: bcdefghijklmnopqrtuvwxyz\n",
    "\tPlease guess a letter: t\n",
    "\tGood guess: ta_ t\n",
    "\t------------\n",
    "\tYou have 7 guesses left.\n",
    "\tAvailable letters: bcdefghijklmnopqruvwxyz\n",
    "\tPlease guess a letter: r\n",
    "\tOops! That letter is not in my word: ta_ t\n",
    "\t------------\n",
    "\tYou have 6 guesses left.\n",
    "\tAvailable letters: bcdefghijklmnopquvwxyz\n",
    "\tPlease guess a letter: m\n",
    "\tOops! That letter is not in my word: ta_ t\n",
    "\t------------\n",
    "\tYou have 5 guesses left.\n",
    "\tAvailable letters: bcdefghijklnopquvwxyz\n",
    "\tPlease guess a letter: c\n",
    "\tGood guess: tact\n",
    "\t------------\n",
    "\tCongratulations, you won!\n",
    "```"
   ]
  },
  {
   "cell_type": "markdown",
   "metadata": {},
   "source": [
    "----\n",
    "**Problem 1 - Is the Word Guessed**\n",
    "\n",
    "0.0/10.0 points (graded)\n",
    "\n",
    "Please read the Hangman Introduction before starting this problem. We'll start by writing 3 simple functions that will help us easily code the Hangman problem. First, implement the function isWordGuessed that takes in two parameters - a string, secretWord, and a list of letters, lettersGuessed. This function returns a boolean - True if secretWord has been guessed (ie, all the letters of secretWord are in lettersGuessed) and False otherwise.\n",
    "\n",
    "Example Usage:\n",
    "\n",
    "```\n",
    ">>> secretWord = 'apple' \n",
    ">>> lettersGuessed = ['e', 'i', 'k', 'p', 'r', 's']\n",
    ">>> print(isWordGuessed(secretWord, lettersGuessed))\n",
    "False\n",
    "```\n",
    "\n",
    "For this function, you may assume that all the letters in secretWord and lettersGuessed are lowercase.\n"
   ]
  },
  {
   "cell_type": "code",
   "execution_count": 30,
   "metadata": {},
   "outputs": [
    {
     "name": "stdout",
     "output_type": "stream",
     "text": [
      "p  in lettersGuessed!\n",
      "i  in lettersGuessed!\n",
      "n  in lettersGuessed!\n",
      "e  in lettersGuessed!\n",
      "a  in lettersGuessed!\n",
      "p  in lettersGuessed!\n",
      "p  in lettersGuessed!\n",
      "l  in lettersGuessed!\n",
      "e  in lettersGuessed!\n"
     ]
    },
    {
     "data": {
      "text/plain": [
       "True"
      ]
     },
     "execution_count": 30,
     "metadata": {},
     "output_type": "execute_result"
    }
   ],
   "source": [
    "### Problem 1 :\n",
    "\n",
    "def isWordGuessed(secretWord, lettersGuessed):\n",
    "    '''\n",
    "    secretWord: string, the word the user is guessing\n",
    "    lettersGuessed: list, what letters have been guessed so far\n",
    "    returns: boolean, True if all the letters of secretWord are in lettersGuessed;\n",
    "      False otherwise\n",
    "    '''\n",
    "    # FILL IN YOUR CODE HERE...\n",
    "    result = True\n",
    "    for i in secretWord:\n",
    "        if i in lettersGuessed:\n",
    "            print(i, ' in lettersGuessed!')\n",
    "            result = result and True\n",
    "        else:\n",
    "            print(i, ' NOT in lettersGuessed!')\n",
    "            result = result and False\n",
    "    return result\n",
    "    \n",
    "    \n",
    "### Test:\n",
    "# isWordGuessed('apple', ['e', 'i', 'k', 'p', 'r', 's'])\n",
    "isWordGuessed('pineapple', ['z', 'x', 'q', 'p', 'i', 'n', 'e', 'a', 'p', 'p', 'l', 'e'])"
   ]
  },
  {
   "cell_type": "markdown",
   "metadata": {},
   "source": [
    "**Problem 2 - Printing Out the User's Guess**\n",
    "\n",
    "0.0/10.0 points (graded)\n",
    "\n",
    "Next, implement the function getGuessedWord that takes in two parameters - a string, secretWord, and a list of letters, lettersGuessed. This function returns a string that is comprised of letters and underscores, based on what letters in lettersGuessed are in secretWord. This shouldn't be too different from isWordGuessed!\n",
    "\n",
    "Example Usage:\n",
    "\n",
    "```\n",
    ">>> secretWord = 'apple' \n",
    ">>> lettersGuessed = ['e', 'i', 'k', 'p', 'r', 's']\n",
    ">>> print(getGuessedWord(secretWord, lettersGuessed))\n",
    "'_ pp_ e'\n",
    "```\n",
    "\n",
    "When inserting underscores into your string, it's a good idea to add at least a space after each one, so it's clear to the user how many unguessed letters are left in the string (compare the readability of ____ with _ _ _ _ ). This is called usability - it's very important, when programming, to consider the usability of your program. If users find your program difficult to understand or operate, they won't use it!\n",
    "\n",
    "For this problem, you are free to use spacing in any way you wish - our grader will only check that the letters and underscores are in the proper order; it will not look at spacing. We do encourage you to think about usability when designing.\n",
    "\n",
    "For this function, you may assume that all the letters in secretWord and lettersGuessed are lowercase.\n"
   ]
  },
  {
   "cell_type": "code",
   "execution_count": null,
   "metadata": {
    "collapsed": true
   },
   "outputs": [],
   "source": [
    "def getGuessedWord(secretWord, lettersGuessed):\n",
    "    '''\n",
    "    secretWord: string, the word the user is guessing\n",
    "    lettersGuessed: list, what letters have been guessed so far\n",
    "    returns: string, comprised of letters and underscores that represents\n",
    "      what letters in secretWord have been guessed so far.\n",
    "    '''\n",
    "    # FILL IN YOUR CODE HERE...\n",
    "    \n",
    "    \n",
    "    \n",
    "    \n",
    "    \n",
    "    \n",
    "### Test:\n"
   ]
  }
 ],
 "metadata": {
  "kernelspec": {
   "display_name": "Python 3",
   "language": "python",
   "name": "python3"
  },
  "language_info": {
   "codemirror_mode": {
    "name": "ipython",
    "version": 3
   },
   "file_extension": ".py",
   "mimetype": "text/x-python",
   "name": "python",
   "nbconvert_exporter": "python",
   "pygments_lexer": "ipython3",
   "version": "3.6.3"
  }
 },
 "nbformat": 4,
 "nbformat_minor": 2
}
