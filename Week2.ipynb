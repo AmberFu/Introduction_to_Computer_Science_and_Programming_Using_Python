{
 "cells": [
  {
   "cell_type": "markdown",
   "metadata": {},
   "source": [
    "## Introduction to Computer Science and Programming Using Python\n",
    "\n",
    "#### Week 2\n",
    "\n",
    "Exercise: guess my number\n",
    "\n",
    "0.0/10.0 points (graded)\n",
    "\n",
    "**ESTIMATED TIME TO COMPLETE: 15 minutes**\n"
   ]
  },
  {
   "cell_type": "markdown",
   "metadata": {},
   "source": [
    "Result must like...\n",
    "\n",
    "```\n",
    "Please think of a number between 0 and 100!\n",
    "Is your secret number 50?\n",
    "Enter 'h' to indicate the guess is too high. Enter 'l' to indicate the guess is too low. Enter 'c' to indicate I guessed correctly. l\n",
    "Is your secret number 75?\n",
    "Enter 'h' to indicate the guess is too high. Enter 'l' to indicate the guess is too low. Enter 'c' to indicate I guessed correctly. l\n",
    "Is your secret number 87?\n",
    "Enter 'h' to indicate the guess is too high. Enter 'l' to indicate the guess is too low. Enter 'c' to indicate I guessed correctly. h\n",
    "Is your secret number 81?\n",
    "Enter 'h' to indicate the guess is too high. Enter 'l' to indicate the guess is too low. Enter 'c' to indicate I guessed correctly. l\n",
    "Is your secret number 84?\n",
    "Enter 'h' to indicate the guess is too high. Enter 'l' to indicate the guess is too low. Enter 'c' to indicate I guessed correctly. h\n",
    "Is your secret number 82?\n",
    "Enter 'h' to indicate the guess is too high. Enter 'l' to indicate the guess is too low. Enter 'c' to indicate I guessed correctly. l\n",
    "Is your secret number 83?\n",
    "Enter 'h' to indicate the guess is too high. Enter 'l' to indicate the guess is too low. Enter 'c' to indicate I guessed correctly. c\n",
    "Game over. Your secret number was: 83\n",
    "\n",
    "```"
   ]
  },
  {
   "cell_type": "markdown",
   "metadata": {},
   "source": [
    "-----\n",
    "\n",
    "handle the wrong input:\n",
    "\n",
    "```\n",
    "Is your secret number 91?\n",
    "Enter 'h' to indicate the guess is too high. Enter 'l' to indicate the guess is too low. Enter 'c' to indicate I guessed correctly. y\n",
    "Sorry, I did not understand your input.\n",
    "Is your secret number 91?\n",
    "Enter 'h' to indicate the guess is too high. Enter 'l' to indicate the guess is too low. Enter 'c' to indicate I guessed correctly. c\n",
    "```\n"
   ]
  },
  {
   "cell_type": "code",
   "execution_count": 21,
   "metadata": {},
   "outputs": [
    {
     "name": "stdout",
     "output_type": "stream",
     "text": [
      "Please think of a number between 0 and 100!\n",
      "Is your secret number 50 ?\n",
      "Enter 'h' to indicate the guess is too high. Enter 'l' to indicate the guess is too low. Enter 'c' to indicate I guessed correctly. h\n",
      "Is your secret number 25 ?\n",
      "Enter 'h' to indicate the guess is too high. Enter 'l' to indicate the guess is too low. Enter 'c' to indicate I guessed correctly. h\n",
      "Is your secret number 12 ?\n",
      "Enter 'h' to indicate the guess is too high. Enter 'l' to indicate the guess is too low. Enter 'c' to indicate I guessed correctly. h\n",
      "Is your secret number 6 ?\n",
      "Enter 'h' to indicate the guess is too high. Enter 'l' to indicate the guess is too low. Enter 'c' to indicate I guessed correctly. h\n",
      "Is your secret number 3 ?\n",
      "Enter 'h' to indicate the guess is too high. Enter 'l' to indicate the guess is too low. Enter 'c' to indicate I guessed correctly. c\n",
      "Game over. Your secret number was: 3\n"
     ]
    }
   ],
   "source": [
    "print('Please think of a number between 0 and 100!')\n",
    "guess = True\n",
    "low_num = 0\n",
    "high_num = 100\n",
    "\n",
    "while guess:\n",
    "    \n",
    "    guessnum = ( low_num + high_num ) // 2\n",
    "    \n",
    "    print('Is your secret number ' + str(guessnum) + ' ?')\n",
    "    \n",
    "    ans = input(\"Enter 'h' to indicate the guess is too high. Enter 'l' to indicate the guess is too low. Enter 'c' to indicate I guessed correctly. \")\n",
    "    \n",
    "    if ans.lower() == 'h':\n",
    "        high_num = guessnum\n",
    "    elif ans.lower() == 'l':\n",
    "        low_num = guessnum\n",
    "    elif ans.lower() == 'c':\n",
    "        guess = False\n",
    "        print('Game over. Your secret number was: ' + str(guessnum))\n",
    "    else:\n",
    "        print('Sorry, I did not understand your input.')\n",
    "    \n",
    "        \n",
    "#     if ans.lower() == 'h':\n",
    "#         low_num = guessＮum\n",
    "#     elif ans.lower() == 'l':\n",
    "#         high_num = guessＮum\n",
    "#     elif ans.lower() == 'c':\n",
    "#         guess = False    \n",
    "    "
   ]
  },
  {
   "cell_type": "markdown",
   "metadata": {
    "collapsed": true
   },
   "source": [
    "------------\n",
    "\n",
    "### Convert integer into binary:\n"
   ]
  },
  {
   "cell_type": "code",
   "execution_count": 3,
   "metadata": {},
   "outputs": [
    {
     "name": "stdout",
     "output_type": "stream",
     "text": [
      "result =  1\n",
      "num =  14\n",
      "result =  01\n",
      "num =  7\n",
      "result =  101\n",
      "num =  3\n",
      "result =  1101\n",
      "num =  1\n",
      "result =  11101\n",
      "num =  0\n"
     ]
    }
   ],
   "source": [
    "def int_to_binary(num):\n",
    "    if num < 0:\n",
    "        isNeg = True\n",
    "        num = abs(num)\n",
    "    else:\n",
    "        isNeg = False\n",
    "        \n",
    "    result = ''\n",
    "    \n",
    "    if num == 0:\n",
    "        result = '0'\n",
    "        \n",
    "    while num > 0:\n",
    "        result = str(num%2) + result # 第一次會取得最後一位的餘數\n",
    "        print('result = ', result)\n",
    "        num = num//2 # loop 除 2 取整數\n",
    "        print('num = ', num)\n",
    "        \n",
    "    if isNeg:\n",
    "        result = '-' + result\n",
    "        \n",
    "\n",
    "# Test:\n",
    "int_to_binary(29)"
   ]
  },
  {
   "cell_type": "markdown",
   "metadata": {},
   "source": [
    "-----\n",
    "### Fibonacci"
   ]
  },
  {
   "cell_type": "markdown",
   "metadata": {
    "collapsed": true
   },
   "source": [
    "-----\n",
    "### Iteration and Recursion"
   ]
  },
  {
   "cell_type": "markdown",
   "metadata": {},
   "source": [
    "**Exercise: iter power**\n",
    "\n",
    "5.0/5.0 points (graded)\n",
    "\n",
    "ESTIMATED TIME TO COMPLETE: 6 minutes\n",
    "\n",
    "```\n",
    "Write an iterative function iterPower(base, exp) that calculates the exponential\n",
    "by simply using successive multiplication. For example, iterPower(base, exp) should compute\n",
    "\n",
    "by multiplying base times itself exp times. Write such a function below.\n",
    "\n",
    "This function should take in two values - base can be a float or an integer; exp will be an integer\n",
    "0. It should return one numerical value. Your code must be iterative - use of the ** operator is not allowed. \n",
    "```"
   ]
  },
  {
   "cell_type": "code",
   "execution_count": 1,
   "metadata": {},
   "outputs": [
    {
     "data": {
      "text/plain": [
       "16"
      ]
     },
     "execution_count": 1,
     "metadata": {},
     "output_type": "execute_result"
    }
   ],
   "source": [
    "def iterPower(base, exp):\n",
    "    '''\n",
    "    base: int or float.\n",
    "    exp: int >= 0\n",
    " \n",
    "    returns: int or float, base^exp\n",
    "    '''\n",
    "    # Your code here\n",
    "    ans = 1\n",
    "    for i in range(0, exp):\n",
    "        ans = ans * base\n",
    "    return ans\n",
    "\n",
    "### Test:\n",
    "iterPower(2,4)"
   ]
  },
  {
   "cell_type": "markdown",
   "metadata": {},
   "source": [
    "**Exercise: power recur**\n",
    "\n",
    "5/5 points (graded)\n",
    "\n",
    "ESTIMATED TIME TO COMPLETE: 7 minutes\n",
    "\n",
    "```\n",
    "In Problem 1, we computed an exponential by iteratively executing successive multiplications. We can use the same idea, but in a recursive function.\n",
    "\n",
    "Write a function recurPower(base, exp) which computes\n",
    "\n",
    "by recursively calling itself to solve a smaller version of the same problem, and then multiplying the result by base to solve the initial problem.\n",
    "\n",
    "This function should take in two values - base can be a float or an integer; exp will be an integer >= 0\n",
    ". It should return one numerical value. Your code must be recursive - use of the ** operator or looping constructs is not allowed. \n",
    "```"
   ]
  },
  {
   "cell_type": "code",
   "execution_count": 3,
   "metadata": {},
   "outputs": [
    {
     "data": {
      "text/plain": [
       "16"
      ]
     },
     "execution_count": 3,
     "metadata": {},
     "output_type": "execute_result"
    }
   ],
   "source": [
    "def recurPower(base, exp):\n",
    "    '''\n",
    "    base: int or float.\n",
    "    exp: int >= 0\n",
    " \n",
    "    returns: int or float, base^exp\n",
    "    '''\n",
    "    # Your code here\n",
    "    if exp == 0:\n",
    "        return 1\n",
    "    else:\n",
    "        return base*recurPower(base, exp-1)\n",
    "    \n",
    "### Test:\n",
    "recurPower(2,4)"
   ]
  },
  {
   "cell_type": "code",
   "execution_count": 13,
   "metadata": {},
   "outputs": [
    {
     "data": {
      "text/plain": [
       "2"
      ]
     },
     "execution_count": 13,
     "metadata": {},
     "output_type": "execute_result"
    }
   ],
   "source": [
    "def mult(a,b):\n",
    "    if b == 1:\n",
    "        return a\n",
    "    elif b < 1:\n",
    "        return 1\n",
    "    else:\n",
    "        print('a = ',a,' , b = ', b)\n",
    "        return a + mult(a,b-1)\n",
    "    \n",
    "### Test: if b==1, 不能寫 mult(2,0) -> 加一個 b <= 1 \n",
    "mult(2,0)\n",
    "mult(2,1)"
   ]
  },
  {
   "cell_type": "markdown",
   "metadata": {},
   "source": [
    "----\n",
    "### Towers of Hanoi"
   ]
  },
  {
   "cell_type": "markdown",
   "metadata": {},
   "source": [
    "**Exercise: gcd iter** 最大公因數 \n",
    "\n",
    "0.0/5.0 points (graded)\n",
    "\n",
    "ESTIMATED TIME TO COMPLETE: 5 minutes\n",
    "\n",
    "```\n",
    "The greatest common divisor of two positive integers is the largest integer that divides each of them without remainder. For example,\n",
    "\n",
    "    gcd(2, 12) = 2\n",
    "\n",
    "    gcd(6, 12) = 6\n",
    "\n",
    "    gcd(9, 12) = 3\n",
    "\n",
    "    gcd(17, 12) = 1\n",
    "\n",
    "Write an iterative function, gcdIter(a, b), that implements this idea. One easy way to do this is to begin with a test value equal to the smaller of the two input arguments, and iteratively reduce this test value by 1 until you either reach a case where the test divides both a and b without remainder, or you reach 1.\n",
    "```"
   ]
  },
  {
   "cell_type": "code",
   "execution_count": 18,
   "metadata": {},
   "outputs": [
    {
     "data": {
      "text/plain": [
       "21"
      ]
     },
     "execution_count": 18,
     "metadata": {},
     "output_type": "execute_result"
    }
   ],
   "source": [
    "def gcdIter(a, b):\n",
    "    '''\n",
    "    a, b: positive integers\n",
    "    \n",
    "    returns: a positive integer, the greatest common divisor of a & b.\n",
    "    '''\n",
    "    # Your code here\n",
    "    while a != 0 and b != 0:\n",
    "        if a >= b:\n",
    "            a = a%b\n",
    "        elif b > a:\n",
    "            b = b%a\n",
    "            \n",
    "    if a == 0:\n",
    "        return b\n",
    "    elif b == 0:\n",
    "        return a\n",
    "    \n",
    "### Test\n",
    "gcdIter(1071,462)"
   ]
  },
  {
   "cell_type": "code",
   "execution_count": 20,
   "metadata": {},
   "outputs": [
    {
     "data": {
      "text/plain": [
       "21"
      ]
     },
     "execution_count": 20,
     "metadata": {},
     "output_type": "execute_result"
    }
   ],
   "source": [
    "### recursive\n",
    "def gcdRecur(a, b):\n",
    "    '''\n",
    "    a, b: positive integers\n",
    "    \n",
    "    returns: a positive integer, the greatest common divisor of a & b.\n",
    "    \n",
    "    用輾轉相除法：大除以小，取餘數，用餘數在去除另一個數，直到結果為零，餘下來的部份為最大公因數。\n",
    "    (https://www.youtube.com/watch?v=8PPQc16kK-c)\n",
    "    '''\n",
    "    # Your code here\n",
    "    if a == 0:\n",
    "        return b\n",
    "    elif b == 0:\n",
    "        return a\n",
    "    else:\n",
    "        if a > b:\n",
    "            return gcdRecur(a%b, b)\n",
    "        elif b > a:\n",
    "            return gcdRecur(a, b%a)\n",
    "    \n",
    "### Test:\n",
    "gcdRecur(1071,462)"
   ]
  },
  {
   "cell_type": "markdown",
   "metadata": {
    "collapsed": true
   },
   "source": [
    "-----\n",
    "**Exercise: is in**\n",
    "\n",
    "0.0/5.0 points (graded)\n",
    "\n",
    "ESTIMATED TIME TO COMPLETE: 18 minutes\n",
    "\n",
    "```\n",
    "We can use the idea of bisection search to determine if a character is in a string, so long as the string is sorted in alphabetical order.\n",
    "\n",
    "First, test the middle character of a string against the character you're looking for (the \"test character\"). If they are the same, we are done - we've found the character we're looking for!\n",
    "\n",
    "If they're not the same, check if the test character is \"smaller\" than the middle character. If so, we need only consider the lower half of the string; otherwise, we only consider the upper half of the string. (Note that you can compare characters using Python's < function.)\n",
    "\n",
    "Implement the function isIn(char, aStr) which implements the above idea recursively to test if char is in aStr. char will be a single character and aStr will be a string that is in alphabetical order. The function should return a boolean value.\n",
    "\n",
    "As you design the function, think very carefully about what the base cases should be.\n",
    "\n",
    "### Your code cannot make use of the \"in\" keyword.\n",
    "\n",
    "```"
   ]
  },
  {
   "cell_type": "code",
   "execution_count": 33,
   "metadata": {},
   "outputs": [
    {
     "name": "stdout",
     "output_type": "stream",
     "text": [
      "0\n"
     ]
    },
    {
     "data": {
      "text/plain": [
       "False"
      ]
     },
     "execution_count": 33,
     "metadata": {},
     "output_type": "execute_result"
    }
   ],
   "source": [
    "def isIn(char, aStr):\n",
    "    '''\n",
    "    char: a single character\n",
    "    aStr: an alphabetized string\n",
    "    \n",
    "    returns: True if char is in aStr; False otherwise\n",
    "    '''\n",
    "    # Your code here\n",
    "    \n",
    "    astr = aStr.lower().replace(' ','')\n",
    "    astr = ''.join(sorted(astr))\n",
    "#     print(astr)\n",
    "    \n",
    "    n = len(astr)//2\n",
    "    print(n)\n",
    "    \n",
    "    if n == 0:\n",
    "        return False\n",
    "    elif char == astr[n]:\n",
    "        return True\n",
    "    elif char > astr[n]:\n",
    "        print('char > astr[n]: \\n\\tastr[n] = ', astr[n], ',n = ', n)\n",
    "        return isIn(char, astr[n:-1])\n",
    "    elif char < astr[n]:\n",
    "        print('char < astr[n]: \\n\\tastr[n] = ', astr[n], ',n = ', n)\n",
    "        return isIn(char, astr[0:n])\n",
    "    \n",
    "### Test\n",
    "isIn('l', '')"
   ]
  },
  {
   "cell_type": "markdown",
   "metadata": {},
   "source": [
    "-----\n",
    "**Grader**\n",
    "\n",
    "0.0/10.0 points (ungraded)\n",
    "\n",
    "```\n",
    "A regular polygon has n number of sides. Each side has length s.\n",
    "\n",
    "    The area of a regular polygon is: (0.25*n*s^2)/tan(pi/n)\n",
    "\n",
    "    The perimeter of a polygon is: length of the boundary of the polygon\n",
    "\n",
    "Write a function called polysum that takes 2 arguments, n and s. This function should sum the area and square of the perimeter of the regular polygon. The function returns the sum, rounded to 4 decimal places.\n",
    "```"
   ]
  },
  {
   "cell_type": "code",
   "execution_count": 40,
   "metadata": {},
   "outputs": [
    {
     "data": {
      "text/plain": [
       "68.0"
      ]
     },
     "execution_count": 40,
     "metadata": {},
     "output_type": "execute_result"
    }
   ],
   "source": [
    "def polysum(n, s):\n",
    "    '''\n",
    "    n : number of sides, s : length.\n",
    "    \n",
    "    The area of a regular polygon is: (0.25*n*s^2)/tan(pi/n).\n",
    "    \n",
    "    The perimeter of a polygon is: length of the boundary of the polygon.\n",
    "    \n",
    "    This function should sum the area and square of the perimeter of the regular polygon.\n",
    "    \n",
    "    Returns the sum, rounded to 4 decimal places.\n",
    "    '''\n",
    "    \n",
    "    import math\n",
    "    \n",
    "    area = round((0.25*n*math.pow(s,2))/math.tan(math.pi/n),4)\n",
    "    perimeter = n*s\n",
    "#     print(area+math.pow(perimeter,2))\n",
    "    return area+math.pow(perimeter,2)\n",
    "    \n",
    "    \n",
    "    \n",
    "### Test:\n",
    "polysum(4,2)"
   ]
  },
  {
   "cell_type": "markdown",
   "metadata": {
    "collapsed": true
   },
   "source": [
    "------\n",
    "**Problem 1 - Paying Debt off in a Year**\n",
    "\n",
    "0.0/10.0 points (graded)\n",
    "\n",
    "```\n",
    "Write a program to calculate the credit card balance after one year if a person only pays the minimum monthly payment required by the credit card company each month.\n",
    "\n",
    "The following variables contain values as described below:\n",
    "\n",
    "    balance - the outstanding balance on the credit card\n",
    "\n",
    "    annualInterestRate - annual interest rate as a decimal\n",
    "\n",
    "    monthlyPaymentRate - minimum monthly payment rate as a decimal\n",
    "\n",
    "For each month, calculate statements on the monthly payment and remaining balance. At the end of 12 months, print out the remaining balance. Be sure to print out no more than two decimal digits of accuracy - so print\n",
    "\n",
    "Remaining balance: 813.41\n",
    "\n",
    "instead of\n",
    "\n",
    "Remaining balance: 813.4141998135 \n",
    "\n",
    "So your program only prints out one thing: the remaining balance at the end of the year in the format:\n",
    "\n",
    "Remaining balance: 4784.0\n",
    "\n",
    "A summary of the required math is found below:\n",
    "\n",
    "    Monthly interest rate= (Annual interest rate) / 12.0\n",
    "    Minimum monthly payment = (Minimum monthly payment rate) x (Previous balance)\n",
    "    Monthly unpaid balance = (Previous balance) - (Minimum monthly payment)\n",
    "    Updated balance each month = (Monthly unpaid balance) + (Monthly interest rate x Monthly unpaid balance)\n",
    "\n",
    "We provide sample test cases below. We suggest you develop your code on your own machine, and make sure your code passes the sample test cases, before you paste it into the box below. \n",
    "\n",
    "\n",
    "Note: Depending on where you round in this problem, your answers may be off by a few cents in either direction. Do not worry if your solution is within +/- 0.05 of the correct answer. Be sure to test these on your own machine - and that you get the same output! - before running your code on this webpage!\n",
    "\n",
    "Test Cases:\n",
    "\n",
    "    \t      # Test Case 1:\n",
    "    \t      balance = 42\n",
    "    \t      annualInterestRate = 0.2\n",
    "    \t      monthlyPaymentRate = 0.04\n",
    "    \t      \n",
    "    \t      # Result Your Code Should Generate Below:\n",
    "    \t      Remaining balance: 31.38\n",
    "                        \n",
    "              # To make sure you are doing calculation correctly, this is the \n",
    "              # remaining balance you should be getting at each month for this example\n",
    "                Month 1 Remaining balance: 40.99\n",
    "                Month 2 Remaining balance: 40.01\n",
    "                Month 3 Remaining balance: 39.05\n",
    "                Month 4 Remaining balance: 38.11\n",
    "                Month 5 Remaining balance: 37.2\n",
    "                Month 6 Remaining balance: 36.3\n",
    "                Month 7 Remaining balance: 35.43\n",
    "                Month 8 Remaining balance: 34.58\n",
    "                Month 9 Remaining balance: 33.75\n",
    "                Month 10 Remaining balance: 32.94\n",
    "                Month 11 Remaining balance: 32.15\n",
    "                Month 12 Remaining balance: 31.38\n",
    "\n",
    "                    \n",
    "\n",
    "\n",
    "    \t      Test Case 2:\n",
    "    \t      balance = 484\n",
    "    \t      annualInterestRate = 0.2\n",
    "    \t      monthlyPaymentRate = 0.04\n",
    "    \t      \n",
    "    \t      Result Your Code Should Generate Below:\n",
    "    \t      Remaining balance: 361.61\n",
    "\n",
    "```\n"
   ]
  },
  {
   "cell_type": "code",
   "execution_count": 10,
   "metadata": {},
   "outputs": [
    {
     "name": "stdout",
     "output_type": "stream",
     "text": [
      "Month  1  Remaining balance:  40.99\n",
      "Month  2  Remaining balance:  40.01\n",
      "Month  3  Remaining balance:  39.05\n",
      "Month  4  Remaining balance:  38.11\n",
      "Month  5  Remaining balance:  37.2\n",
      "Month  6  Remaining balance:  36.31\n",
      "Month  7  Remaining balance:  35.44\n",
      "Month  8  Remaining balance:  34.59\n",
      "Month  9  Remaining balance:  33.76\n",
      "Month  10  Remaining balance:  32.95\n",
      "Month  11  Remaining balance:  32.16\n",
      "Month  12  Remaining balance:  31.39\n",
      "Remaining balance:  31.39\n"
     ]
    }
   ],
   "source": [
    "# Test Case 1:\n",
    "balance = 42\n",
    "annualInterestRate = 0.2\n",
    "monthlyPaymentRate = 0.04\n",
    "\n",
    "\n",
    "# #Test Case 2:\n",
    "# balance = 484\n",
    "# annualInterestRate = 0.2\n",
    "# monthlyPaymentRate = 0.04\n",
    "\n",
    "\n",
    "###\n",
    "for i in range(1,13):\n",
    "    MonthlyInterestRate = annualInterestRate / 12.0\n",
    "    MinimumMonthlyPayment = monthlyPaymentRate * balance\n",
    "    MonthlyUnpaidBalance = balance - MinimumMonthlyPayment\n",
    "    balance = round(MonthlyUnpaidBalance + MonthlyInterestRate * MonthlyUnpaidBalance, 2)\n",
    "#     print('Month ', i,' Remaining balance: ', balance)\n",
    "print('Remaining balance: ', balance)"
   ]
  },
  {
   "cell_type": "markdown",
   "metadata": {},
   "source": [
    "------\n",
    "**Problem 2 - Paying Debt Off in a Year**\n",
    "\n",
    "0.0/15.0 points (graded)\n",
    "\n",
    "```\n",
    "Now write a program that calculates the minimum fixed monthly payment needed in order pay off a credit card balance within 12 months. By a fixed monthly payment, we mean a single number which does not change each month, but instead is a constant amount that will be paid each month.\n",
    "\n",
    "In this problem, we will not be dealing with a minimum monthly payment rate.\n",
    "\n",
    "The following variables contain values as described below:\n",
    "\n",
    "    balance - the outstanding balance on the credit card\n",
    "\n",
    "    annualInterestRate - annual interest rate as a decimal\n",
    "\n",
    "The program should print out one line: the lowest monthly payment that will pay off all debt in under 1 year, for example:\n",
    "\n",
    "Lowest Payment: 180 \n",
    "\n",
    "Assume that the interest is compounded monthly according to the balance at the end of the month (after the payment for that month is made). The monthly payment must be a multiple of $10 and is the same for all months. Notice that it is possible for the balance to become negative using this payment scheme, which is okay. A summary of the required math is found below:\n",
    "\n",
    "    Monthly interest rate = (Annual interest rate) / 12.0\n",
    "    Monthly unpaid balance = (Previous balance) - (Minimum fixed monthly payment)\n",
    "    Updated balance each month = (Monthly unpaid balance) + (Monthly interest rate x Monthly unpaid balance)\n",
    "    \n",
    "    # Test Case 1:\n",
    "      balance = 3329\n",
    "      annualInterestRate = 0.2\n",
    "\n",
    "      Result Your Code Should Generate:\n",
    "      -------------------\n",
    "      Lowest Payment: 310\n",
    "\n",
    "                  \n",
    "\t      # Test Case 2:\n",
    "\t      balance = 4773\n",
    "\t      annualInterestRate = 0.2\n",
    "\t      \n",
    "\t      Result Your Code Should Generate:\n",
    "\t      -------------------\n",
    "\t      Lowest Payment: 440\n",
    "      \n",
    "                \n",
    "\n",
    "                  \n",
    "\t      # Test Case 3:\n",
    "\t      balance = 3926\n",
    "\t      annualInterestRate = 0.2\n",
    "\n",
    "\t      Result Your Code Should Generate:\n",
    "\t      -------------------\n",
    "\t      Lowest Payment: 360\n",
    "    \n",
    "                \n",
    "    \n",
    "```"
   ]
  },
  {
   "cell_type": "code",
   "execution_count": 20,
   "metadata": {},
   "outputs": [
    {
     "name": "stdout",
     "output_type": "stream",
     "text": [
      "Lowest Payment:  360\n"
     ]
    }
   ],
   "source": [
    "# # Test Case 1:\n",
    "# balance = 3329\n",
    "# annualInterestRate = 0.2\n",
    "\n",
    "# # Test Case 2:\n",
    "# balance = 4773\n",
    "# annualInterestRate = 0.2\n",
    "\n",
    "# Test Case 3:\n",
    "balance = 3926\n",
    "annualInterestRate = 0.2\n",
    "\n",
    "\n",
    "for MinimumFixedMonthlyPayment in range(0, balance,10):\n",
    "    b = balance\n",
    "    \n",
    "    for i in range(1,13):\n",
    "        MonthlyInterestRate = annualInterestRate / 12.0\n",
    "        MonthlyUnpaidBalance = b - MinimumFixedMonthlyPayment\n",
    "        b = MonthlyUnpaidBalance + MonthlyInterestRate * MonthlyUnpaidBalance\n",
    "\n",
    "    if b <= 0:\n",
    "        print('Lowest Payment: ', MinimumFixedMonthlyPayment)\n",
    "        break\n"
   ]
  },
  {
   "cell_type": "markdown",
   "metadata": {},
   "source": [
    "------\n",
    "**Problem 3 - Using Bisection Search to Make the Program Faster**\n",
    "\n",
    "0.0/20.0 points (graded)\n",
    "\n",
    "```\n",
    "You'll notice that in Problem 2, your monthly payment had to be a multiple of $10. Why did we make it that way? You can try running your code locally so that the payment can be any dollar and cent amount (in other words, the monthly payment is a multiple of $0.01). Does your code still work? It should, but you may notice that your code runs more slowly, especially in cases with very large balances and interest rates. (Note: when your code is running on our servers, there are limits on the amount of computing time each submission is allowed, so your observations from running this experiment on the grading system might be limited to an error message complaining about too much time taken.)\n",
    "\n",
    "Well then, how can we calculate a more accurate fixed monthly payment than we did in Problem 2 without running into the problem of slow code? We can make this program run faster using a technique introduced in lecture - bisection search!\n",
    "\n",
    "The following variables contain values as described below:\n",
    "\n",
    "    balance - the outstanding balance on the credit card\n",
    "\n",
    "    annualInterestRate - annual interest rate as a decimal\n",
    "\n",
    "To recap the problem: we are searching for the smallest monthly payment such that we can pay off the entire balance within a year. What is a reasonable lower bound for this payment value? $0 is the obvious anwer, but you can do better than that. If there was no interest, the debt can be paid off by monthly payments of one-twelfth of the original balance, so we must pay at least this much every month. One-twelfth of the original balance is a good lower bound.\n",
    "\n",
    "What is a good upper bound? Imagine that instead of paying monthly, we paid off the entire balance at the end of the year. What we ultimately pay must be greater than what we would've paid in monthly installments, because the interest was compounded on the balance we didn't pay off each month. So a good upper bound for the monthly payment would be one-twelfth of the balance, after having its interest compounded monthly for an entire year.\n",
    "\n",
    "In short:\n",
    "\n",
    "    Monthly interest rate = (Annual interest rate) / 12.0\n",
    "    Monthly payment lower bound = Balance / 12\n",
    "    Monthly payment upper bound = (Balance x (1 + Monthly interest rate)12) / 12.0\n",
    "\n",
    "Write a program that uses these bounds and bisection search (for more info check out the Wikipedia page on bisection search) to find the smallest monthly payment to the cent (no more multiples of $10) such that we can pay off the debt within a year. Try it out with large inputs, and notice how fast it is (try the same large inputs in your solution to Problem 2 to compare!). Produce the same return value as you did in Problem 2.\n",
    "\n",
    "Note that if you do not use bisection search, your code will not run - your code only has 30 seconds to run on our servers.\n",
    "\n",
    "EX:\n",
    "\n",
    "                  \n",
    "\t      Test Case 1:\n",
    "\t      balance = 320000\n",
    "\t      annualInterestRate = 0.2\n",
    "\n",
    "\t      Result Your Code Should Generate:\n",
    "\t      -------------------\n",
    "\t      Lowest Payment: 29157.09\n",
    "      \n",
    "                \n",
    "\n",
    "                  \n",
    "\t      Test Case 2:\n",
    "\t      balance = 999999\n",
    "\t      annualInterestRate = 0.18\n",
    "\t      \n",
    "\t      Result Your Code Should Generate:\n",
    "\t      -------------------\n",
    "\t      Lowest Payment: 90325.03\n",
    "\t  \n",
    "                \n",
    "```"
   ]
  },
  {
   "cell_type": "code",
   "execution_count": 47,
   "metadata": {},
   "outputs": [
    {
     "name": "stdout",
     "output_type": "stream",
     "text": [
      "Lowest Payment:  90325.03\n"
     ]
    }
   ],
   "source": [
    "# # Test Case 1:\n",
    "# balance = 320000\n",
    "# annualInterestRate = 0.2\n",
    "\n",
    "# Test Case 2:\n",
    "balance = 999999\n",
    "annualInterestRate = 0.18\n",
    "\n",
    "\n",
    "LowerBound = balance / 12\n",
    "UpperBound = ( balance + balance * annualInterestRate ) / 12.0\n",
    "# print('LowerBound = ', LowerBound)\n",
    "# print('UpperBound = ', UpperBound)\n",
    "\n",
    "MonthlyInterestRate = annualInterestRate / 12.0\n",
    "\n",
    "def get_balance(MinFixPay, MonthlyInterestRate, balance):\n",
    "    for i in range(1,13):\n",
    "        MonthlyUnpaidBalance = balance - MinFixPay\n",
    "        balance = round(MonthlyUnpaidBalance + MonthlyInterestRate * MonthlyUnpaidBalance, 2)\n",
    "#         print('i = ', i, ', balance = ', balance)\n",
    "    return balance\n",
    "\n",
    "def bisec(low, high, MonthlyInterestRate, balance):\n",
    "    middle = (low+high)/2\n",
    "#     print('MinFixPay = ', middle)\n",
    "    b = get_balance(middle, MonthlyInterestRate, balance)\n",
    "#     print('balance = ', b)\n",
    "    if b > 0.01:\n",
    "#         print('b > 0')\n",
    "        bisec(middle, high, MonthlyInterestRate, balance)\n",
    "    elif b < -0.01:\n",
    "#         print('b < 0')\n",
    "        bisec(low, middle, MonthlyInterestRate, balance)\n",
    "    else:\n",
    "        print('Lowest Payment: ', round(middle, 2))\n",
    "\n",
    "bisec(LowerBound, UpperBound, MonthlyInterestRate, balance)"
   ]
  },
  {
   "cell_type": "code",
   "execution_count": null,
   "metadata": {
    "collapsed": true
   },
   "outputs": [],
   "source": []
  },
  {
   "cell_type": "code",
   "execution_count": null,
   "metadata": {
    "collapsed": true
   },
   "outputs": [],
   "source": []
  }
 ],
 "metadata": {
  "kernelspec": {
   "display_name": "Python 3",
   "language": "python",
   "name": "python3"
  },
  "language_info": {
   "codemirror_mode": {
    "name": "ipython",
    "version": 3
   },
   "file_extension": ".py",
   "mimetype": "text/x-python",
   "name": "python",
   "nbconvert_exporter": "python",
   "pygments_lexer": "ipython3",
   "version": "3.6.3"
  }
 },
 "nbformat": 4,
 "nbformat_minor": 2
}
